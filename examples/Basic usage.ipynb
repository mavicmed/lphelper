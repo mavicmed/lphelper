{
 "cells": [
  {
   "cell_type": "markdown",
   "metadata": {},
   "source": [
    "# Runeglish object"
   ]
  },
  {
   "cell_type": "markdown",
   "metadata": {},
   "source": [
    "### Importing the package. \"Runeglish\" is the main object for working with runes and their representations."
   ]
  },
  {
   "cell_type": "code",
   "execution_count": 1,
   "metadata": {},
   "outputs": [],
   "source": [
    "from lphelper.core import Runeglish"
   ]
  },
  {
   "cell_type": "markdown",
   "metadata": {},
   "source": [
    "### There are two ways to get a rune object. The first way is to use a string containing runes."
   ]
  },
  {
   "cell_type": "code",
   "execution_count": 2,
   "metadata": {},
   "outputs": [],
   "source": [
    "page5 = \"ᛋᚩᛗᛖᚹᛁᛋᛞᚩᛗ.ᚦᛖ-ᛈᚱᛁᛗᛖᛋ-ᚪᚱᛖ-ᛋᚪᚳ/\\nᚱᛖᛞ.ᚦᛖ-ᛏᚩᛏᛁᛖᚾᛏ-ᚠᚢᚾᚳᛏᛡᚾ-ᛁᛋ-ᛋᚪ/\\nᚳᚱᛖᛞ\"\n",
    "runic_object1 = Runeglish(page5)\n",
    "runic_object1"
   ]
  },
  {
   "cell_type": "markdown",
   "metadata": {},
   "source": [
    "### The second way is to use the built-in function to load pages.\n",
    "This function returns a Runeglish object containing the specified page number. \n",
    "\n",
    "The page numbers are the numbers of their images from the iddqd repository.\n",
    "https://github.com/rtkd/iddqd/tree/master/liber-primus__images--full\n",
    "\n"
   ]
  },
  {
   "cell_type": "code",
   "execution_count": 3,
   "metadata": {},
   "outputs": [],
   "source": [
    "from lphelper.page_loader import get_page\n",
    "page_number = 5\n",
    "page5 = get_page(page_number)\n",
    "page5"
   ]
  },
  {
   "cell_type": "markdown",
   "metadata": {},
   "source": [
    "**Page numbers missing runes or other valuable data have been omitted. If you try to call such a page, you will get an exception.**\n",
    "\n",
    "Below are all the pages that can be obtained using this function."
   ]
  },
  {
   "cell_type": "code",
   "execution_count": 4,
   "metadata": {},
   "outputs": [
    {
     "data": {
      "text/plain": [
       "dict_keys(['delimiters', '1', '3', '4', '5', '6', '7', '8', '9', '10', '11', '12', '13', '14', '15', '16', '17', '18', '19', '20', '21', '22', '23', '24', '25', '26', '27', '28', '29', '30', '31', '32', '33', '34', '35', '36', '37', '38', '39', '40', '41', '42', '43', '44', '45', '46', '47', '48', '49', '50', '51', '52', '53', '54', '55', '56', '57', '58', '59', '60', '61', '62', '63', '64', '65', '66', '67', '68', '69', '70', '71', '72', '73', '74'])"
      ]
     },
     "execution_count": 4,
     "metadata": {},
     "output_type": "execute_result"
    }
   ],
   "source": [
    "#pages 0 and 2 omitted\n",
    "from lphelper.page_loader import iddqd_pages\n",
    "iddqd_pages.keys()"
   ]
  },
  {
   "cell_type": "markdown",
   "metadata": {},
   "source": [
    "The **delimiters** page contains information about the various additional characters used to digitize the pages."
   ]
  },
  {
   "cell_type": "code",
   "execution_count": 5,
   "metadata": {},
   "outputs": [
    {
     "name": "stdout",
     "output_type": "stream",
     "text": [
      "Delimiters\n",
      "Word     : -\n",
      "Clause   : .\n",
      "Paragraph: &\n",
      "Segment  : $\n",
      "Chapter  : §\n",
      "Line     : /\n",
      "Page     : %\n",
      "\n",
      "\n"
     ]
    }
   ],
   "source": [
    "print(iddqd_pages['delimiters'])"
   ]
  },
  {
   "cell_type": "markdown",
   "metadata": {},
   "source": [
    "### Working with rune representations. \n",
    "Each rune can be represented as an image of a rune, an English letter or the ordinal number of the rune in Gematria Primus. \n",
    "Through the Runeglish object, you can access all representations at once."
   ]
  },
  {
   "cell_type": "code",
   "execution_count": 6,
   "metadata": {},
   "outputs": [
    {
     "name": "stdout",
     "output_type": "stream",
     "text": [
      "ᛋ    15  S   \n",
      "ᚩ     3  O   \n",
      "ᛗ    19  M   \n",
      "ᛖ    18  E   \n",
      "ᚹ     7  W   \n"
     ]
    }
   ],
   "source": [
    "for r, e, i in zip(page5.runes[:5], page5.rids[:5], page5.eng[:5]):\n",
    "    print(f'{r:2}  {e:3}  {i:4}')"
   ]
  },
  {
   "cell_type": "markdown",
   "metadata": {},
   "source": [
    "If the object was originally created from a string containing additional characters, then you can restore the string along with them."
   ]
  },
  {
   "cell_type": "code",
   "execution_count": 7,
   "metadata": {},
   "outputs": [
    {
     "data": {
      "text/plain": [
       "'ᛋᚩᛗᛖ-ᚹᛁᛋᛞᚩᛗ.ᚦᛖ-ᛈᚱᛁᛗᛖᛋ-ᚪᚱᛖ-ᛋᚪᚳ/\\nᚱᛖᛞ.ᚦᛖ-ᛏᚩᛏᛁᛖᚾᛏ-ᚠᚢᚾᚳᛏᛡᚾ-ᛁᛋ-ᛋᚪ/\\nᚳᚱᛖᛞ.ᚪᛚᛚ-ᚦᛝᛋ-ᛋᚻᚩᚢᛚᛞ-ᛒᛖ-ᛖᚾᚳᚱᚣ/\\nᛈᛏᛖᛞ./\\n&\\nᚳᚾᚩᚹ-ᚦᛁᛋ./\\n272-138-ᛋᚻᚪᛞᚩᚹᛋ-131-151/\\nᚫᚦᛖᚱᛠᛚ-ᛒᚢᚠᚠᛖᚱᛋ-ᚢᚩᛁᛞ-ᚳᚪᚱᚾᚪᛚ-18/\\n226-ᚩᛒᛋᚳᚢᚱᚪ-ᚠᚩᚱᛗ-245-ᛗᚩᛒᛁᚢᛋ/\\n18-ᚪᚾᚪᛚᚩᚷ-ᚢᚩᛁᛞ-ᛗᚩᚢᚱᚾᚠᚢᛚ-ᚫᚦᛖᚱᛠᛚ/\\n151-131-ᚳᚪᛒᚪᛚ-138-272/\\n&\\n$\\n'"
      ]
     },
     "execution_count": 7,
     "metadata": {},
     "output_type": "execute_result"
    }
   ],
   "source": [
    "page5.as_runes_with_delimiters"
   ]
  },
  {
   "cell_type": "code",
   "execution_count": 8,
   "metadata": {},
   "outputs": [
    {
     "data": {
      "text/plain": [
       "'SOME-WISDOM.THE-PRIMES-ARE-SAC(K)RED.THE-TOTIENT-FUNC(K)TIAN-IS-SAC(K)RED.ALL-TH(i)NGS-SHOULD-BE-ENC(K)RYPTED.C(K)NOW-THIS.--SHADOWS--AETHEREAL-BUFFERS-UOID-C(K)ARNAL--OBSC(K)URA-FORM--MOBIUS-ANALOG-UOID-MOURNFUL-AETHEREAL--C(K)ABAL--'"
      ]
     },
     "execution_count": 8,
     "metadata": {},
     "output_type": "execute_result"
    }
   ],
   "source": [
    "page5.as_english_with_spaces"
   ]
  },
  {
   "cell_type": "markdown",
   "metadata": {},
   "source": [
    "### Slices\n",
    "Using python notation for slices, you can get parts of an object. When using slices, rune indices are indicated in a line containing only runes. But the slice is still able to display the content along with additional characters."
   ]
  },
  {
   "cell_type": "code",
   "execution_count": 9,
   "metadata": {},
   "outputs": [
    {
     "data": {
      "text/plain": [
       "'ᚦᛖᛈᚱᛁᛗᛖᛋᚪᚱᛖᛋᚪᚳᚱᛖᛞᚦᛖᛏ'"
      ]
     },
     "execution_count": 9,
     "metadata": {},
     "output_type": "execute_result"
    }
   ],
   "source": [
    "part_of_page5 = page5[10:30]\n",
    "part_of_page5.as_runes_string"
   ]
  },
  {
   "cell_type": "code",
   "execution_count": 10,
   "metadata": {},
   "outputs": [
    {
     "data": {
      "text/plain": [
       "'THE-PRIMES-ARE-SAC(K)RED.THE-T'"
      ]
     },
     "execution_count": 10,
     "metadata": {},
     "output_type": "execute_result"
    }
   ],
   "source": [
    "part_of_page5.as_english_with_spaces"
   ]
  },
  {
   "cell_type": "markdown",
   "metadata": {},
   "source": [
    "### Functions for decryption\n",
    "Inside Runeglish there are functions for decrypting already resolved pages. To use these functions, it is enough to specify the key, the list of missing runes (if any) and the type of cipher."
   ]
  },
  {
   "cell_type": "code",
   "execution_count": 11,
   "metadata": {},
   "outputs": [
    {
     "data": {
      "text/plain": [
       "'UEA(i)NGSEOFC(K).REOUGPEAEA-FWXTC(K)LEA-YM-EAEO-TC(K)NAE-(i)NGMIAIAMMW-AEPD(i)NGIAR-OEA-IAMI-FF-EU(i)NG-EOUAE.YP-RAE-IPAE-C(K)AE-AENW-BXMD-RIAI-FPC(K)-EOEOAEC(K)-RTHP-FJMO-EOC(K)WIA-BAEW-BEALS-RY-JAE-R-MC(K)THEOAETC(K)PW-MGEO.C(K)(i)NGPU-EOC(K)-REW-IAPI-BYBX-FLIR-RM-C(K)GB-YR-C(K)FU-THPIAJWTFEA-JGB-AETHFFEAPTH-PFAX-JMEP(i)NGSOSM-WEOJL-WXUTHAEWMTH-DYJC(K)-SIAXO(i)NGRMBW-RMI-DYJC(K)-XHUYPL.J(i)NGYMFJPEOUIA-WEOJ-DWXU-ALASMIAEOX-AEM-IAMI-PY-AEMUF.MY-YEO-AEXRJSE-EWN-DJUSXYTETM-EORY-DS-NEAEDIA-PBUNEA(i)NGJIAAE-JGB-PTHX-PNWWILMAE.LPBUOEAIA-RIAEAF-RREOJM-RMI-DYJ-HLFU-JUIALTHEA-EOJOEORRM.UMSC(K)-EAEO-LIAEAEC(K)L-WI-LT-PEUP-EAIAPTHTB-TME-ULOLE-EOJP-UEA-LC(K)G-EAGSIATM.BMRTHFP.WRJ-RXC(K)-(i)NG-JEAOE-JEYM-DYJC(K)AEIAUF.PFA-C(K)C(K)EA-R-UJR-AMBP-GPBUNEA(i)NGF.NXE-YGIEA(i)NGUMTC(K)GEAEA-JAE-BPWD.FYX-AEUF-EOJP-XLTHEAA-LTH-C(K)YUIA.C(K)E-LAEEOIXTHSAEHAE-THYFLC(K)ER-PFAX-RBE-AEC(K)BF.'"
      ]
     },
     "execution_count": 11,
     "metadata": {},
     "output_type": "execute_result"
    }
   ],
   "source": [
    "from lphelper.page_loader import list_of_pages\n",
    "from lphelper.converters.core import runes_to_rids\n",
    "page = list_of_pages([3,4])\n",
    "page.as_english_with_spaces"
   ]
  },
  {
   "cell_type": "markdown",
   "metadata": {},
   "source": [
    "When using the list_of_pages function, the pages are concatenated with a \"%\" separator inserted between them."
   ]
  },
  {
   "cell_type": "code",
   "execution_count": 12,
   "metadata": {},
   "outputs": [
    {
     "data": {
      "text/plain": [
       "'WELC(K)OME.WELC(K)OME-PILGRIM-TO-THE-GREAT-JOURNEY-TOWARD-THE-END-OF-ALL-TH(i)NGS.IT-IS-NOT-AN-EASY-TRIP-BUT-FOR-THOSE-WHO-FIND-THEIR-WAY-HERE-IT-IS-A-NEC(K)ESSARY-ONE.ALO(i)NG-THE-WAY-YOU-WILL-FIND-AN-END-TO-ALL-STRUGGLE-AND-SUFFER(i)NG-YOUR-INNOC(K)ENC(K)E-YOUR-ILLUSIANS-YOUR-C(K)ERTAINTY-AND-YOUR-REALITY.ULTIMATELY-YOU-WILL-DISC(K)OUER-AN-END-TO-SELF.IT-IS-THROUGH-THIS-PILGRIMAGE-THAT-WE-SHAPE-OURSELUES-AND-OUR-REALITIES.JOURNEY-DEEP-WITHIN-AND-YOU-WILL-ARRIUE-OUTSIDE.LIC(K)E-THE-INSTAR-IT-IS-ONLY-THROUGH-GO(i)NG-WITHIN-THAT-WE-MAY-EMERGE.WIDSOM.YOU-ARE-A-BE(i)NG-UNTO-YOURSELF.YOU-ARE-A-LAW-UNTO-YOURSELF.EAC(K)H-INTELLIGENC(K)E-IS-HOLY.FOR-ALL-THAT-LIUES-IS-HOLY.AN-INSTRUC(K)TIAN-C(K)OMMAND-YOUR-OWN-SELF.'"
      ]
     },
     "execution_count": 12,
     "metadata": {},
     "output_type": "execute_result"
    }
   ],
   "source": [
    "key = runes_to_rids('ᛞᛁᚢᛁᚾᛁᛏᚣ')\n",
    "missing_f = [48, 74, 84, 132, 159, 160, 250, 421, 443, 465, 514]\n",
    "page.decription(key, missing_f, cipher_type='vigenere')\n",
    "page.as_english_with_spaces"
   ]
  },
  {
   "cell_type": "markdown",
   "metadata": {},
   "source": [
    "### Calculation of statistics. \n",
    "More stats will be added later."
   ]
  },
  {
   "cell_type": "code",
   "execution_count": 14,
   "metadata": {},
   "outputs": [
    {
     "data": {
      "text/plain": [
       "{'ioc': 13.199507389162559, 'runes_entropy': 4.669365170554235}"
      ]
     },
     "execution_count": 14,
     "metadata": {},
     "output_type": "execute_result"
    }
   ],
   "source": [
    "page = list_of_pages([3,4])\n",
    "page.stats_base"
   ]
  },
  {
   "cell_type": "code",
   "execution_count": 15,
   "metadata": {},
   "outputs": [
    {
     "data": {
      "text/plain": [
       "{'ioc': 19.36945812807882, 'runes_entropy': 4.235364993277167}"
      ]
     },
     "execution_count": 15,
     "metadata": {},
     "output_type": "execute_result"
    }
   ],
   "source": [
    "page.decription(key, missing_f, cipher_type='vigenere')\n",
    "page.stats_base"
   ]
  },
  {
   "cell_type": "code",
   "execution_count": 16,
   "metadata": {},
   "outputs": [
    {
     "data": {
      "text/plain": [
       "{'_runes_frequency': {'ᚠ': 0.021359223300970873,\n",
       "  'ᚢ': 0.06019417475728155,\n",
       "  'ᚦ': 0.02912621359223301,\n",
       "  'ᚩ': 0.0854368932038835,\n",
       "  'ᚱ': 0.06990291262135923,\n",
       "  'ᚳ': 0.02330097087378641,\n",
       "  'ᚷ': 0.021359223300970873,\n",
       "  'ᚹ': 0.031067961165048542,\n",
       "  'ᚻ': 0.015533980582524271,\n",
       "  'ᚾ': 0.06796116504854369,\n",
       "  'ᛁ': 0.08349514563106795,\n",
       "  'ᛄ': 0.003883495145631068,\n",
       "  'ᛇ': 0.0,\n",
       "  'ᛈ': 0.009708737864077669,\n",
       "  'ᛉ': 0.0,\n",
       "  'ᛋ': 0.05825242718446602,\n",
       "  'ᛏ': 0.05631067961165048,\n",
       "  'ᛒ': 0.003883495145631068,\n",
       "  'ᛖ': 0.1029126213592233,\n",
       "  'ᛗ': 0.019417475728155338,\n",
       "  'ᛚ': 0.07184466019417475,\n",
       "  'ᛝ': 0.009708737864077669,\n",
       "  'ᛟ': 0.0,\n",
       "  'ᛞ': 0.02912621359223301,\n",
       "  'ᚪ': 0.06407766990291262,\n",
       "  'ᚫ': 0.0,\n",
       "  'ᚣ': 0.04854368932038835,\n",
       "  'ᛡ': 0.003883495145631068,\n",
       "  'ᛠ': 0.009708737864077669},\n",
       " 'ioc': 19.36945812807882,\n",
       " 'runes_entropy': 4.235364993277167}"
      ]
     },
     "execution_count": 16,
     "metadata": {},
     "output_type": "execute_result"
    }
   ],
   "source": [
    "page.stats_full"
   ]
  },
  {
   "cell_type": "markdown",
   "metadata": {},
   "source": [
    "### An End"
   ]
  },
  {
   "cell_type": "markdown",
   "metadata": {},
   "source": [
    "This is still more a prototype than a full-fledged package. Although the functions described here should work well, there may be bugs in the code. I tried to make the code more understandable in terms of the algorithms that are used in it and tried to ignore the DRY principle. This was done so that new solvers could understand how to work with runes and their representations by looking at the code. It seems to me that it turned out worse than I wanted, so the code is waiting for refactoring. Nevertheless, I recommend that you look into the code, as it contains useful functions that were not described here."
   ]
  }
 ],
 "metadata": {
  "kernelspec": {
   "display_name": "Python 3",
   "language": "python",
   "name": "python3"
  },
  "language_info": {
   "codemirror_mode": {
    "name": "ipython",
    "version": 3
   },
   "file_extension": ".py",
   "mimetype": "text/x-python",
   "name": "python",
   "nbconvert_exporter": "python",
   "pygments_lexer": "ipython3",
   "version": "3.8.5"
  }
 },
 "nbformat": 4,
 "nbformat_minor": 4
}
